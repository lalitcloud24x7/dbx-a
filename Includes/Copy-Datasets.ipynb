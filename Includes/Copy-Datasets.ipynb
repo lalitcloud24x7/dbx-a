{
 "cells": [
  {
   "cell_type": "code",
   "execution_count": 0,
   "metadata": {
    "application/vnd.databricks.v1+cell": {
     "cellMetadata": {
      "byteLimit": 2048000,
      "rowLimit": 10000
     },
     "inputWidgets": {},
     "nuid": "ac3335c8-bd41-4ffc-b0d8-67478173c54e",
     "showTitle": false,
     "tableResultSettingsMap": {},
     "title": ""
    }
   },
   "outputs": [],
   "source": [
    "%pip install Faker"
   ]
  },
  {
   "cell_type": "code",
   "execution_count": 0,
   "metadata": {
    "application/vnd.databricks.v1+cell": {
     "cellMetadata": {
      "byteLimit": 2048000,
      "rowLimit": 10000
     },
     "inputWidgets": {},
     "nuid": "c7c6232a-3e34-4ec4-8193-9cae68cba47b",
     "showTitle": false,
     "tableResultSettingsMap": {},
     "title": ""
    }
   },
   "outputs": [],
   "source": [
    "dbutils.library.restartPython()"
   ]
  },
  {
   "cell_type": "code",
   "execution_count": 0,
   "metadata": {
    "application/vnd.databricks.v1+cell": {
     "cellMetadata": {
      "byteLimit": 2048000,
      "rowLimit": 10000
     },
     "inputWidgets": {},
     "nuid": "3948d272-358d-477a-bbe8-62a96ea740c8",
     "showTitle": false,
     "tableResultSettingsMap": {},
     "title": ""
    }
   },
   "outputs": [],
   "source": [
    "import os\n",
    "import json\n",
    "import random\n",
    "from datetime import datetime\n",
    "from faker import Faker\n",
    "\n",
    "fake = Faker()\n",
    "\n",
    "# -------------------- Meta Directory Helpers --------------------\n",
    "\n",
    "META_DIR = \"meta\"\n",
    "os.makedirs(META_DIR, exist_ok=True)\n",
    "\n",
    "def get_meta_file(entity):\n",
    "    return os.path.join(META_DIR, f\"{entity}.json\")\n",
    "\n",
    "def load_last_id(entity):\n",
    "    \"\"\"Load the last used ID for an entity from meta/<entity>.json\"\"\"\n",
    "    meta_file = get_meta_file(entity)\n",
    "    if os.path.exists(meta_file):\n",
    "        with open(meta_file, \"r\") as f:\n",
    "            meta = json.load(f)\n",
    "            return meta.get(\"last_id\", 0)\n",
    "    return 0\n",
    "\n",
    "def save_last_id(entity, last_id):\n",
    "    \"\"\"Save the last used ID for an entity to meta/<entity>.json\"\"\"\n",
    "    meta_file = get_meta_file(entity)\n",
    "    with open(meta_file, \"w\") as f:\n",
    "        json.dump({\"last_id\": last_id}, f)\n",
    "\n",
    "# -------------------- Customer --------------------\n",
    "\n",
    "def generate_random_customer(customer_id):\n",
    "    name = fake.name()\n",
    "    email = fake.email()\n",
    "    age = random.randint(18, 70)\n",
    "    update_time = fake.date_time_between(start_date='-30d', end_date='now').isoformat()\n",
    "    return {\n",
    "        \"customer_id\": customer_id,\n",
    "        \"email\": email,\n",
    "        \"profile\": {\n",
    "            \"name\": name,\n",
    "            \"age\": age,\n",
    "            \"email\": email\n",
    "        },\n",
    "        \"update\": update_time\n",
    "    }\n",
    "\n",
    "def generate_customers(n, output_dir=\"customers\"):\n",
    "    os.makedirs(output_dir, exist_ok=True)\n",
    "    last_id = load_last_id(\"customer\")\n",
    "\n",
    "    for i in range(1, n + 1):\n",
    "        cid = last_id + i\n",
    "        data = generate_random_customer(cid)\n",
    "        with open(os.path.join(output_dir, f\"customer_{cid}.json\"), \"w\") as f:\n",
    "            json.dump(data, f, indent=2)\n",
    "\n",
    "    save_last_id(\"customer\", last_id + n)\n",
    "    print(f\"✅ Created {n} customers starting from ID {last_id + 1}\")\n",
    "\n",
    "# -------------------- Books --------------------\n",
    "\n",
    "def generate_random_book(book_id):\n",
    "    categories = [\"Data Engineering\", \"Cloud\", \"Machine Learning\", \"Databases\"]\n",
    "    return {\n",
    "        \"book_id\": book_id,\n",
    "        \"title\": fake.catch_phrase(),\n",
    "        \"author\": fake.name(),\n",
    "        \"category\": random.choice(categories),\n",
    "        \"price\": round(random.uniform(20, 100), 2)\n",
    "    }\n",
    "\n",
    "def generate_books(n, output_dir=\"books\"):\n",
    "    os.makedirs(output_dir, exist_ok=True)\n",
    "    last_id = load_last_id(\"book\")\n",
    "\n",
    "    for i in range(1, n + 1):\n",
    "        bid = last_id + i\n",
    "        data = generate_random_book(bid)\n",
    "        with open(os.path.join(output_dir, f\"book_{bid}.json\"), \"w\") as f:\n",
    "            json.dump(data, f, indent=2)\n",
    "\n",
    "    save_last_id(\"book\", last_id + n)\n",
    "    print(f\"📚 Created {n} books starting from ID {last_id + 1}\")\n",
    "\n",
    "# -------------------- Orders --------------------\n",
    "\n",
    "def generate_random_order(order_id, customer_ids, book_ids):\n",
    "    customer_id = random.choice(customer_ids)\n",
    "    book_id = random.choice(book_ids)\n",
    "    quantity = random.randint(1, 5)\n",
    "    price = round(random.uniform(10, 60), 2)\n",
    "    total = round(quantity * price, 2)\n",
    "    timestamp = fake.date_time_between(start_date='-15d', end_date='now').isoformat()\n",
    "    return {\n",
    "        \"order_id\": order_id,\n",
    "        \"timestamp\": timestamp,\n",
    "        \"customer_id\": customer_id,\n",
    "        \"quantity\": quantity,\n",
    "        \"total\": total,\n",
    "        \"books\": book_id\n",
    "    }\n",
    "\n",
    "def generate_orders(n, output_dir=\"orders\", customer_dir=\"customers\", book_dir=\"books\"):\n",
    "    os.makedirs(output_dir, exist_ok=True)\n",
    "    last_id = load_last_id(\"order\")\n",
    "\n",
    "    # Load existing customer and book IDs\n",
    "    customer_ids = [\n",
    "        int(f.split(\"_\")[1].split(\".\")[0])\n",
    "        for f in os.listdir(customer_dir)\n",
    "        if f.startswith(\"customer_\") and f.endswith(\".json\")\n",
    "    ]\n",
    "    book_ids = [\n",
    "        int(f.split(\"_\")[1].split(\".\")[0])\n",
    "        for f in os.listdir(book_dir)\n",
    "        if f.startswith(\"book_\") and f.endswith(\".json\")\n",
    "    ]\n",
    "\n",
    "    if not customer_ids or not book_ids:\n",
    "        print(\"⚠️  Cannot generate orders — make sure customers and books exist.\")\n",
    "        return\n",
    "\n",
    "    for i in range(1, n + 1):\n",
    "        oid = last_id + i\n",
    "        data = generate_random_order(oid, customer_ids, book_ids)\n",
    "        with open(os.path.join(output_dir, f\"order_{oid}.json\"), \"w\") as f:\n",
    "            json.dump(data, f, indent=2)\n",
    "\n",
    "    save_last_id(\"order\", last_id + n)\n",
    "    print(f\"📦 Created {n} orders starting from ID {last_id + 1}\")\n",
    "\n",
    "# -------------------- Example Usage --------------------\n",
    "\n",
    "# if __name__ == \"__main__\":\n",
    "generate_customers(10)\n",
    "generate_books(5)\n",
    "generate_orders(5)"
   ]
  },
  {
   "cell_type": "code",
   "execution_count": 0,
   "metadata": {
    "application/vnd.databricks.v1+cell": {
     "cellMetadata": {},
     "inputWidgets": {},
     "nuid": "577e3d85-4c9f-4efe-8668-f26f5a310d7a",
     "showTitle": false,
     "tableResultSettingsMap": {},
     "title": ""
    }
   },
   "outputs": [],
   "source": []
  }
 ],
 "metadata": {
  "application/vnd.databricks.v1+notebook": {
   "computePreferences": null,
   "dashboards": [],
   "environmentMetadata": {
    "base_environment": "",
    "environment_version": "2"
   },
   "inputWidgetPreferences": null,
   "language": "python",
   "notebookMetadata": {
    "pythonIndentUnit": 4
   },
   "notebookName": "Copy-Datasets",
   "widgets": {}
  },
  "language_info": {
   "name": "python"
  }
 },
 "nbformat": 4,
 "nbformat_minor": 0
}
